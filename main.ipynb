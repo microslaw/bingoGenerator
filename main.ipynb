{
 "cells": [
  {
   "cell_type": "code",
   "execution_count": 128,
   "metadata": {},
   "outputs": [],
   "source": [
    "import cv2\n",
    "import numpy as np\n",
    "import random\n",
    "import os\n",
    "\n",
    "pixel_size = 512 * 2\n",
    "line_width = 5\n",
    "tiles_per_row = 4\n",
    "filler = \"\"\"lorem ipsum dolor sit amet consectetur adipiscing elit sed do eiusmod tempor incididunt ut labore et dolore magna\"\"\"\n",
    "max_character_per_line = 20\n"
   ]
  },
  {
   "cell_type": "code",
   "execution_count": 129,
   "metadata": {},
   "outputs": [],
   "source": [
    "def put_text_block(img, org, text, spacing):\n",
    "    in_line = 0\n",
    "    last_space = 0\n",
    "    for i, character in enumerate(text):\n",
    "        if character == \" \":\n",
    "            last_space = i\n",
    "        if in_line >= max_character_per_line:\n",
    "            text = text[:last_space] + \"\\n\" + text[last_space + 1:]\n",
    "            in_line =  i - last_space\n",
    "        in_line += 1\n",
    "\n",
    "    lines = text.split(\"\\n\")\n",
    "    for line in lines:\n",
    "        org = (org[0], org[1] + spacing)\n",
    "        cv2.putText(\n",
    "            img,\n",
    "            line,\n",
    "            org,\n",
    "            cv2.FONT_HERSHEY_SIMPLEX,\n",
    "            0.6,\n",
    "            (0, 0, 0),\n",
    "            1,\n",
    "            cv2.LINE_AA,\n",
    "        )"
   ]
  },
  {
   "cell_type": "code",
   "execution_count": 130,
   "metadata": {},
   "outputs": [],
   "source": [
    "# create an white image and save it\n",
    "\n",
    "def create_bingo_card(texts, filename):\n",
    "    img = np.zeros((pixel_size, pixel_size, 3), np.uint8)\n",
    "    img.fill(255)\n",
    "    written = 0\n",
    "\n",
    "    for i in range(0, pixel_size, pixel_size // tiles_per_row):\n",
    "        cv2.line(img, (i, 0), (i, pixel_size), (0, 0, 0), line_width)\n",
    "        cv2.line(img, (0, i), (pixel_size, i), (0, 0, 0), line_width)\n",
    "\n",
    "    for i in range(tiles_per_row):\n",
    "        for j in range(tiles_per_row):\n",
    "            origin = (\n",
    "                int((i + 0.1) * pixel_size // tiles_per_row),\n",
    "                int((j+0.1) * pixel_size // tiles_per_row),\n",
    "            )\n",
    "            put_text_block(img, origin, texts[written], 20)\n",
    "            written += 1\n",
    "    cv2.imwrite(filename, img)"
   ]
  },
  {
   "cell_type": "code",
   "execution_count": 131,
   "metadata": {},
   "outputs": [],
   "source": [
    "texts = [filler + str(i) for i in range(32)]\n",
    "\n",
    "os.makedirs(\"cards\", exist_ok=True)\n",
    "\n",
    "for i in range(20):\n",
    "    create_bingo_card(\n",
    "        random.sample(texts, tiles_per_row * tiles_per_row), f\"cards/{i}.jpg\"\n",
    "    )"
   ]
  },
  {
   "cell_type": "code",
   "execution_count": null,
   "metadata": {},
   "outputs": [],
   "source": []
  }
 ],
 "metadata": {
  "kernelspec": {
   "display_name": "Python 3",
   "language": "python",
   "name": "python3"
  },
  "language_info": {
   "codemirror_mode": {
    "name": "ipython",
    "version": 3
   },
   "file_extension": ".py",
   "mimetype": "text/x-python",
   "name": "python",
   "nbconvert_exporter": "python",
   "pygments_lexer": "ipython3",
   "version": "3.12.2"
  }
 },
 "nbformat": 4,
 "nbformat_minor": 2
}
