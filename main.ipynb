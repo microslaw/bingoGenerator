{
 "cells": [
  {
   "cell_type": "code",
   "execution_count": 4,
   "metadata": {},
   "outputs": [
    {
     "name": "stderr",
     "output_type": "stream",
     "text": [
      "<>:13: SyntaxWarning: invalid escape sequence '\\W'\n",
      "<>:13: SyntaxWarning: invalid escape sequence '\\W'\n",
      "C:\\Users\\milos\\AppData\\Local\\Temp\\ipykernel_4452\\3849795911.py:13: SyntaxWarning: invalid escape sequence '\\W'\n",
      "  font = ImageFont.truetype(\"C:\\Windows\\Fonts\\\\arial.ttf\", 20)\n"
     ]
    }
   ],
   "source": [
    "import cv2\n",
    "import numpy as np\n",
    "from PIL import ImageFont, ImageDraw, Image\n",
    "import random\n",
    "import os\n",
    "\n",
    "pixel_size = 512 * 2\n",
    "line_width = 5\n",
    "tiles_per_row = 4\n",
    "filler = \"\"\"lorem ipsum dolor sit amet consectetur adipiscing elit sed do eiusmod tempor incididunt ut labore et dolore magna\"\"\"\n",
    "max_character_per_line = 20\n",
    "\n",
    "font = ImageFont.truetype(\"C:\\Windows\\Fonts\\\\arial.ttf\", 20)\n",
    "\n"
   ]
  },
  {
   "cell_type": "code",
   "execution_count": 5,
   "metadata": {},
   "outputs": [],
   "source": [
    "def put_text_block(img, draw: ImageDraw, org, text, spacing):\n",
    "    in_line = 0\n",
    "    last_space = 0\n",
    "    for i, character in enumerate(text):\n",
    "        if character == \" \":\n",
    "            last_space = i\n",
    "        if in_line >= max_character_per_line:\n",
    "            text = text[:last_space] + \"\\n\" + text[last_space + 1 :]\n",
    "            in_line = i - last_space\n",
    "        in_line += 1\n",
    "\n",
    "    lines = text.split(\"\\n\")\n",
    "    for line in lines:\n",
    "        org = (org[0], org[1] + spacing)\n",
    "        draw.text(org, line, font=font, fill=(0, 0, 0))\n",
    "        # cv2.putText(\n",
    "        #     img,\n",
    "        #     line,\n",
    "        #     org,\n",
    "        #     cv2.FONT_HERSHEY_SIMPLEX,\n",
    "        #     0.6,\n",
    "        #     (0, 0, 0),\n",
    "        #     1,\n",
    "        #     cv2.LINE_AA,\n",
    "        # )"
   ]
  },
  {
   "cell_type": "code",
   "execution_count": 6,
   "metadata": {},
   "outputs": [],
   "source": [
    "# create an white image and save it\n",
    "\n",
    "def create_bingo_card(texts, filename):\n",
    "    img = np.zeros((pixel_size, pixel_size, 3), np.uint8)\n",
    "    img.fill(255)\n",
    "    written = 0\n",
    "\n",
    "    tile_width = pixel_size // tiles_per_row\n",
    "    for i in range(0, tile_width * (tiles_per_row + 1) + 1, tile_width):\n",
    "        cv2.line(img, (i, 0), (i, pixel_size), (0, 0, 0), line_width)\n",
    "        cv2.line(img, (0, i), (pixel_size, i), (0, 0, 0), line_width)\n",
    "\n",
    "\n",
    "    # Draw non-ascii text onto image\n",
    "\n",
    "    # Convert back to Numpy array and switch back from RGB to BGR\n",
    "\n",
    "    pil_image = Image.fromarray(img)\n",
    "    draw = ImageDraw.Draw(pil_image)\n",
    "    for i in range(tiles_per_row):\n",
    "        for j in range(tiles_per_row):\n",
    "            origin = (\n",
    "                int((i + 0.1) * pixel_size // tiles_per_row),\n",
    "                int((j+0.1) * pixel_size // tiles_per_row),\n",
    "            )\n",
    "            put_text_block(pil_image, draw, origin, texts[written], 20)\n",
    "            written += 1\n",
    "    signed_image = np.asarray(pil_image)\n",
    "    cv2.imwrite(filename, signed_image)"
   ]
  },
  {
   "cell_type": "code",
   "execution_count": 7,
   "metadata": {},
   "outputs": [
    {
     "ename": "IndexError",
     "evalue": "list index out of range",
     "output_type": "error",
     "traceback": [
      "\u001b[1;31m---------------------------------------------------------------------------\u001b[0m",
      "\u001b[1;31mIndexError\u001b[0m                                Traceback (most recent call last)",
      "Cell \u001b[1;32mIn[7], line 8\u001b[0m\n\u001b[0;32m      5\u001b[0m os\u001b[38;5;241m.\u001b[39mmakedirs(\u001b[38;5;124m\"\u001b[39m\u001b[38;5;124mcards\u001b[39m\u001b[38;5;124m\"\u001b[39m, exist_ok\u001b[38;5;241m=\u001b[39m\u001b[38;5;28;01mTrue\u001b[39;00m)\n\u001b[0;32m      7\u001b[0m \u001b[38;5;28;01mfor\u001b[39;00m i \u001b[38;5;129;01min\u001b[39;00m \u001b[38;5;28mrange\u001b[39m(\u001b[38;5;241m17\u001b[39m):\n\u001b[1;32m----> 8\u001b[0m     \u001b[43mcreate_bingo_card\u001b[49m\u001b[43m(\u001b[49m\n\u001b[0;32m      9\u001b[0m \u001b[43m        \u001b[49m\u001b[43mrandom\u001b[49m\u001b[38;5;241;43m.\u001b[39;49m\u001b[43msample\u001b[49m\u001b[43m(\u001b[49m\u001b[43mtexts\u001b[49m\u001b[43m,\u001b[49m\u001b[43m \u001b[49m\u001b[43mtiles_per_row\u001b[49m\u001b[43m \u001b[49m\u001b[38;5;241;43m*\u001b[39;49m\u001b[43m \u001b[49m\u001b[43mtiles_per_row\u001b[49m\u001b[43m)\u001b[49m\u001b[43m,\u001b[49m\u001b[43m \u001b[49m\u001b[38;5;124;43mf\u001b[39;49m\u001b[38;5;124;43m\"\u001b[39;49m\u001b[38;5;124;43mcards/\u001b[39;49m\u001b[38;5;132;43;01m{\u001b[39;49;00m\u001b[43mi\u001b[49m\u001b[38;5;132;43;01m}\u001b[39;49;00m\u001b[38;5;124;43m.jpg\u001b[39;49m\u001b[38;5;124;43m\"\u001b[39;49m\n\u001b[0;32m     10\u001b[0m \u001b[43m    \u001b[49m\u001b[43m)\u001b[49m\n",
      "Cell \u001b[1;32mIn[6], line 26\u001b[0m, in \u001b[0;36mcreate_bingo_card\u001b[1;34m(texts, filename)\u001b[0m\n\u001b[0;32m     21\u001b[0m     \u001b[38;5;28;01mfor\u001b[39;00m j \u001b[38;5;129;01min\u001b[39;00m \u001b[38;5;28mrange\u001b[39m(tiles_per_row\u001b[38;5;241m+\u001b[39m\u001b[38;5;241m1\u001b[39m):\n\u001b[0;32m     22\u001b[0m         origin \u001b[38;5;241m=\u001b[39m (\n\u001b[0;32m     23\u001b[0m             \u001b[38;5;28mint\u001b[39m((i \u001b[38;5;241m+\u001b[39m \u001b[38;5;241m0.1\u001b[39m) \u001b[38;5;241m*\u001b[39m pixel_size \u001b[38;5;241m/\u001b[39m\u001b[38;5;241m/\u001b[39m tiles_per_row),\n\u001b[0;32m     24\u001b[0m             \u001b[38;5;28mint\u001b[39m((j\u001b[38;5;241m+\u001b[39m\u001b[38;5;241m0.1\u001b[39m) \u001b[38;5;241m*\u001b[39m pixel_size \u001b[38;5;241m/\u001b[39m\u001b[38;5;241m/\u001b[39m tiles_per_row),\n\u001b[0;32m     25\u001b[0m         )\n\u001b[1;32m---> 26\u001b[0m         put_text_block(pil_image, draw, origin, \u001b[43mtexts\u001b[49m\u001b[43m[\u001b[49m\u001b[43mwritten\u001b[49m\u001b[43m]\u001b[49m, \u001b[38;5;241m20\u001b[39m)\n\u001b[0;32m     27\u001b[0m         written \u001b[38;5;241m+\u001b[39m\u001b[38;5;241m=\u001b[39m \u001b[38;5;241m1\u001b[39m\n\u001b[0;32m     28\u001b[0m signed_image \u001b[38;5;241m=\u001b[39m np\u001b[38;5;241m.\u001b[39masarray(pil_image)\n",
      "\u001b[1;31mIndexError\u001b[0m: list index out of range"
     ]
    }
   ],
   "source": [
    "texts = []\n",
    "with open(\"input.txt\", \"r\", encoding='utf-8') as rfile:\n",
    "    texts = rfile.readlines()\n",
    "\n",
    "os.makedirs(\"cards\", exist_ok=True)\n",
    "\n",
    "for i in range(17):\n",
    "    create_bingo_card(\n",
    "        random.sample(texts, tiles_per_row * tiles_per_row), f\"cards/{i}.jpg\"\n",
    "    )"
   ]
  },
  {
   "cell_type": "code",
   "execution_count": 5,
   "metadata": {},
   "outputs": [
    {
     "name": "stderr",
     "output_type": "stream",
     "text": [
      "<>:12: SyntaxWarning: invalid escape sequence '\\W'\n",
      "<>:12: SyntaxWarning: invalid escape sequence '\\W'\n",
      "C:\\Users\\milos\\AppData\\Local\\Temp\\ipykernel_10716\\1279166555.py:12: SyntaxWarning: invalid escape sequence '\\W'\n",
      "  font = ImageFont.truetype(\"C:\\Windows\\Fonts\\\\arial.ttf\", 35)\n"
     ]
    }
   ],
   "source": [
    "# from PIL import ImageFont, ImageDraw, Image\n",
    "# import cv2\n",
    "# import numpy as np\n",
    "\n",
    "# # Create black mask using Numpy and convert from BGR (OpenCV) to RGB (PIL)\n",
    "# # image = cv2.imread('1.png') # If you were using an actual image\n",
    "# image = np.zeros((100, 950, 3), dtype=np.uint8)\n",
    "# image = cv2.cvtColor(image, cv2.COLOR_BGR2RGB)\n",
    "# pil_image = Image.fromarray(image)\n",
    "\n",
    "# # Draw non-ascii text onto image\n",
    "# font = ImageFont.truetype(\"C:\\Windows\\Fonts\\\\arial.ttf\", 35)\n",
    "# draw = ImageDraw.Draw(pil_image)\n",
    "# draw.text((30, 30), \"ԱԲԳԴԵԶԷԸԹԺԻԼԽԾԿՀՁՂՃՄՅՆՇՈՉՊՋՌՍՎՏՐՑՓՔՖ\", font=font)\n",
    "\n",
    "# # Convert back to Numpy array and switch back from RGB to BGR\n",
    "# image = np.asarray(pil_image)\n",
    "# image = cv2.cvtColor(image, cv2.COLOR_RGB2BGR)\n",
    "# cv2.imshow('image', image)\n",
    "# cv2.waitKey()"
   ]
  },
  {
   "cell_type": "code",
   "execution_count": null,
   "metadata": {},
   "outputs": [],
   "source": []
  }
 ],
 "metadata": {
  "kernelspec": {
   "display_name": "Python 3",
   "language": "python",
   "name": "python3"
  },
  "language_info": {
   "codemirror_mode": {
    "name": "ipython",
    "version": 3
   },
   "file_extension": ".py",
   "mimetype": "text/x-python",
   "name": "python",
   "nbconvert_exporter": "python",
   "pygments_lexer": "ipython3",
   "version": "3.12.2"
  }
 },
 "nbformat": 4,
 "nbformat_minor": 2
}
